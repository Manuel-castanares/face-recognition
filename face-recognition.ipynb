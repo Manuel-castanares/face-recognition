{
 "cells": [
  {
   "cell_type": "code",
   "execution_count": 8,
   "id": "73cbfd95",
   "metadata": {},
   "outputs": [],
   "source": [
    "import os\n",
    "from skimage.io import imread\n",
    "from skimage.transform import resize\n",
    "import numpy as np"
   ]
  },
  {
   "cell_type": "code",
   "execution_count": 9,
   "id": "652ea54c",
   "metadata": {},
   "outputs": [],
   "source": [
    "faces_dir = './Faces'\n",
    "categories = []\n",
    "# Getting all of the people that have pictures\n",
    "for folder in os.listdir(faces_dir):\n",
    "    categories.append(folder)\n",
    "    \n",
    "print(categories)"
   ]
  },
  {
   "cell_type": "code",
   "execution_count": 15,
   "id": "67577bb4",
   "metadata": {},
   "outputs": [
    {
     "name": "stdout",
     "output_type": "stream",
     "text": [
      "[[0.54509804 0.58431373 0.63137255 ... 0.62745098 0.49019608 0.41176471]\n",
      " [0.09411765 0.09411765 0.0627451  ... 0.08235294 0.12156863 0.12941176]\n",
      " [0.0745098  0.08627451 0.16078431 ... 0.08627451 0.06666667 0.08235294]\n",
      " ...\n",
      " [0.16470588 0.08235294 0.07058824 ... 0.21568627 0.16470588 0.19215686]\n",
      " [0.14509804 0.03921569 0.01176471 ... 0.41568627 0.68627451 0.99215686]\n",
      " [0.23921569 0.16862745 0.12941176 ... 0.06666667 0.03921569 0.        ]]\n"
     ]
    }
   ],
   "source": [
    "# Preparing the data\n",
    "data = []\n",
    "labels = []\n",
    "# Iterating through all the folders (each folder is a different celebrity)\n",
    "for cat_indx, category in enumerate(categories):\n",
    "    # For each picture of each celebrity, process the image\n",
    "    for file in os.listdir(os.path.join(faces_dir, category)):\n",
    "        # Getting the image path\n",
    "        img_path = os.path.join(faces_dir, category, file)\n",
    "        # Reading image data\n",
    "        img = imread(img_path)\n",
    "        # Resizing the image in order to create a uniform size\n",
    "        img = resize(img, (160, 160))\n",
    "        # Appending the pixel matrix, as an array, into the \"data\" list\n",
    "        data.append(img.flatten())\n",
    "        # Appending the index of the category into the \"labels\" list\n",
    "        labels.append(cat_indx)\n",
    "\n",
    "data = np.asarray(data)\n",
    "labels = np.asarray(data)"
   ]
  },
  {
   "cell_type": "code",
   "execution_count": null,
   "id": "537428c9",
   "metadata": {},
   "outputs": [],
   "source": []
  },
  {
   "cell_type": "code",
   "execution_count": null,
   "id": "a84543cc",
   "metadata": {},
   "outputs": [],
   "source": []
  }
 ],
 "metadata": {
  "kernelspec": {
   "display_name": "face-recognition-kernel",
   "language": "python",
   "name": "face-recognition-kernel"
  },
  "language_info": {
   "codemirror_mode": {
    "name": "ipython",
    "version": 3
   },
   "file_extension": ".py",
   "mimetype": "text/x-python",
   "name": "python",
   "nbconvert_exporter": "python",
   "pygments_lexer": "ipython3",
   "version": "3.10.5"
  }
 },
 "nbformat": 4,
 "nbformat_minor": 5
}
